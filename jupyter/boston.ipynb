{
 "cells": [
  {
   "cell_type": "code",
   "execution_count": 17,
   "metadata": {},
   "outputs": [],
   "source": [
    "from sklearn.datasets import load_boston\n",
    "import sklearn.preprocessing as preprocessing"
   ]
  },
  {
   "cell_type": "code",
   "execution_count": 18,
   "metadata": {},
   "outputs": [],
   "source": [
    "X, y = load_boston(return_X_y=True)\n",
    "X = preprocessing.scale(X)\n",
    "y = preprocessing.scale(y)"
   ]
  },
  {
   "cell_type": "code",
   "execution_count": 19,
   "metadata": {},
   "outputs": [],
   "source": [
    "import pennylane as qml"
   ]
  },
  {
   "cell_type": "code",
   "execution_count": 20,
   "metadata": {},
   "outputs": [],
   "source": [
    "wires = 3\n",
    "layers = 4"
   ]
  },
  {
   "cell_type": "code",
   "execution_count": 21,
   "metadata": {},
   "outputs": [],
   "source": [
    "dev = qml.device(\"default.qubit\", wires=wires)"
   ]
  },
  {
   "cell_type": "code",
   "execution_count": 22,
   "metadata": {},
   "outputs": [],
   "source": [
    "@qml.qnode(dev)\n",
    "def qnode(inputs, weights):\n",
    "    qml.templates.embeddings.AngleEmbedding(inputs, wires=range(wires))\n",
    "    qml.templates.layers.StronglyEntanglingLayers(weights, wires=range(wires))\n",
    "    return [qml.expval(qml.PauliZ(i)) for i in range(wires)]\n",
    "\n",
    "weights_shape = {\"weights\": (layers, wires, 3)}\n",
    "\n",
    "qlayer = qml.qnn.KerasLayer(qnode, weights_shape, output_dim=wires)"
   ]
  },
  {
   "cell_type": "code",
   "execution_count": 23,
   "metadata": {},
   "outputs": [],
   "source": [
    "import tensorflow as tf"
   ]
  },
  {
   "cell_type": "code",
   "execution_count": 24,
   "metadata": {},
   "outputs": [],
   "source": [
    "# mnist = tf.keras.datasets.mnist\n",
    "\n",
    "# (x_train, y_train), (x_test, y_test) = mnist.load_data()\n",
    "# x_train, x_test = x_train / 255.0, x_test / 255.0\n",
    "import numpy as np\n",
    "x_train = np.array(X[:400], \"float32\")\n",
    "x_test = np.array(X[400:], \"float32\")\n",
    "y_train = np.array(y[:400], \"float32\")\n",
    "y_test = np.array(y[400:], \"float32\")"
   ]
  },
  {
   "cell_type": "code",
   "execution_count": 25,
   "metadata": {},
   "outputs": [
    {
     "data": {
      "text/plain": [
       "(13,)"
      ]
     },
     "execution_count": 25,
     "metadata": {},
     "output_type": "execute_result"
    }
   ],
   "source": [
    "x_train[0].shape"
   ]
  },
  {
   "cell_type": "code",
   "execution_count": 26,
   "metadata": {},
   "outputs": [],
   "source": [
    "model = tf.keras.models.Sequential([\n",
    "  tf.keras.layers.Dense(20, activation='relu'),\n",
    "  tf.keras.layers.Dense(20, activation=\"relu\"),\n",
    "  tf.keras.layers.Dense(20, activation=\"relu\"),\n",
    "  tf.keras.layers.Dense(20, activation=\"relu\"),\n",
    "#   qlayer,\n",
    "  tf.keras.layers.Dense(1),\n",
    "])"
   ]
  },
  {
   "cell_type": "code",
   "execution_count": 27,
   "metadata": {},
   "outputs": [
    {
     "data": {
      "text/plain": [
       "array([[-0.05701374],\n",
       "       [ 0.00208683],\n",
       "       [-0.02890216],\n",
       "       [-0.00428431],\n",
       "       [ 0.01282565],\n",
       "       [-0.00880293],\n",
       "       [-0.05383658],\n",
       "       [-0.01041398],\n",
       "       [ 0.0071491 ],\n",
       "       [-0.03704028]], dtype=float32)"
      ]
     },
     "execution_count": 27,
     "metadata": {},
     "output_type": "execute_result"
    }
   ],
   "source": [
    "predictions = model(x_train[:10]).numpy()\n",
    "predictions"
   ]
  },
  {
   "cell_type": "code",
   "execution_count": 28,
   "metadata": {},
   "outputs": [
    {
     "data": {
      "text/plain": [
       "array([ 0.15968566, -0.10152429,  1.32424667,  1.18275795,  1.48750288,\n",
       "        0.6712218 ,  0.03996443,  0.49708184, -0.65659542, -0.39538548])"
      ]
     },
     "execution_count": 28,
     "metadata": {},
     "output_type": "execute_result"
    }
   ],
   "source": [
    "y[:10]"
   ]
  },
  {
   "cell_type": "code",
   "execution_count": 29,
   "metadata": {},
   "outputs": [],
   "source": [
    "optimizer = tf.keras.optimizers.SGD(learning_rate=0.05)\n",
    "model.compile(optimizer=optimizer,\n",
    "              loss=\"mae\")"
   ]
  },
  {
   "cell_type": "code",
   "execution_count": 30,
   "metadata": {},
   "outputs": [
    {
     "name": "stdout",
     "output_type": "stream",
     "text": [
      "Epoch 1/100\n",
      "20/20 [==============================] - 0s 640us/step - loss: 0.6523\n",
      "Epoch 2/100\n",
      "20/20 [==============================] - 0s 896us/step - loss: 0.5200\n",
      "Epoch 3/100\n",
      "20/20 [==============================] - 0s 996us/step - loss: 0.4304\n",
      "Epoch 4/100\n",
      "20/20 [==============================] - 0s 1ms/step - loss: 0.4030\n",
      "Epoch 5/100\n",
      "20/20 [==============================] - 0s 1ms/step - loss: 0.3607\n",
      "Epoch 6/100\n",
      "20/20 [==============================] - 0s 1ms/step - loss: 0.3419\n",
      "Epoch 7/100\n",
      "20/20 [==============================] - 0s 961us/step - loss: 0.3218\n",
      "Epoch 8/100\n",
      "20/20 [==============================] - 0s 1ms/step - loss: 0.3266\n",
      "Epoch 9/100\n",
      "20/20 [==============================] - 0s 1ms/step - loss: 0.3136\n",
      "Epoch 10/100\n",
      "20/20 [==============================] - 0s 964us/step - loss: 0.2954\n",
      "Epoch 11/100\n",
      "20/20 [==============================] - 0s 1ms/step - loss: 0.2857\n",
      "Epoch 12/100\n",
      "20/20 [==============================] - 0s 889us/step - loss: 0.2874\n",
      "Epoch 13/100\n",
      "20/20 [==============================] - 0s 789us/step - loss: 0.2700\n",
      "Epoch 14/100\n",
      "20/20 [==============================] - 0s 921us/step - loss: 0.2666\n",
      "Epoch 15/100\n",
      "20/20 [==============================] - 0s 848us/step - loss: 0.2723\n",
      "Epoch 16/100\n",
      "20/20 [==============================] - 0s 754us/step - loss: 0.2692\n",
      "Epoch 17/100\n",
      "20/20 [==============================] - 0s 822us/step - loss: 0.2642\n",
      "Epoch 18/100\n",
      "20/20 [==============================] - 0s 862us/step - loss: 0.2503\n",
      "Epoch 19/100\n",
      "20/20 [==============================] - 0s 1ms/step - loss: 0.2370\n",
      "Epoch 20/100\n",
      "20/20 [==============================] - 0s 967us/step - loss: 0.2452\n",
      "Epoch 21/100\n",
      "20/20 [==============================] - 0s 992us/step - loss: 0.2433\n",
      "Epoch 22/100\n",
      "20/20 [==============================] - 0s 1ms/step - loss: 0.2363\n",
      "Epoch 23/100\n",
      "20/20 [==============================] - 0s 986us/step - loss: 0.2420\n",
      "Epoch 24/100\n",
      "20/20 [==============================] - 0s 848us/step - loss: 0.2441\n",
      "Epoch 25/100\n",
      "20/20 [==============================] - 0s 775us/step - loss: 0.2367\n",
      "Epoch 26/100\n",
      "20/20 [==============================] - 0s 920us/step - loss: 0.2398\n",
      "Epoch 27/100\n",
      "20/20 [==============================] - 0s 950us/step - loss: 0.2291\n",
      "Epoch 28/100\n",
      "20/20 [==============================] - 0s 946us/step - loss: 0.2379\n",
      "Epoch 29/100\n",
      "20/20 [==============================] - 0s 1ms/step - loss: 0.2278\n",
      "Epoch 30/100\n",
      "20/20 [==============================] - 0s 1ms/step - loss: 0.2329\n",
      "Epoch 31/100\n",
      "20/20 [==============================] - 0s 964us/step - loss: 0.2148\n",
      "Epoch 32/100\n",
      "20/20 [==============================] - 0s 1ms/step - loss: 0.2399\n",
      "Epoch 33/100\n",
      "20/20 [==============================] - 0s 1ms/step - loss: 0.2290\n",
      "Epoch 34/100\n",
      "20/20 [==============================] - 0s 1ms/step - loss: 0.2095\n",
      "Epoch 35/100\n",
      "20/20 [==============================] - 0s 921us/step - loss: 0.2257\n",
      "Epoch 36/100\n",
      "20/20 [==============================] - 0s 992us/step - loss: 0.2280\n",
      "Epoch 37/100\n",
      "20/20 [==============================] - 0s 987us/step - loss: 0.2168\n",
      "Epoch 38/100\n",
      "20/20 [==============================] - 0s 899us/step - loss: 0.2236\n",
      "Epoch 39/100\n",
      "20/20 [==============================] - 0s 925us/step - loss: 0.2130\n",
      "Epoch 40/100\n",
      "20/20 [==============================] - 0s 942us/step - loss: 0.2212\n",
      "Epoch 41/100\n",
      "20/20 [==============================] - 0s 950us/step - loss: 0.2344\n",
      "Epoch 42/100\n",
      "20/20 [==============================] - 0s 917us/step - loss: 0.2082\n",
      "Epoch 43/100\n",
      "20/20 [==============================] - 0s 969us/step - loss: 0.2261\n",
      "Epoch 44/100\n",
      "20/20 [==============================] - 0s 977us/step - loss: 0.1972\n",
      "Epoch 45/100\n",
      "20/20 [==============================] - 0s 866us/step - loss: 0.2133\n",
      "Epoch 46/100\n",
      "20/20 [==============================] - 0s 999us/step - loss: 0.2122\n",
      "Epoch 47/100\n",
      "20/20 [==============================] - 0s 1ms/step - loss: 0.2017\n",
      "Epoch 48/100\n",
      "20/20 [==============================] - 0s 927us/step - loss: 0.2101\n",
      "Epoch 49/100\n",
      "20/20 [==============================] - 0s 998us/step - loss: 0.2121\n",
      "Epoch 50/100\n",
      "20/20 [==============================] - 0s 1ms/step - loss: 0.2054\n",
      "Epoch 51/100\n",
      "20/20 [==============================] - 0s 1ms/step - loss: 0.2079\n",
      "Epoch 52/100\n",
      "20/20 [==============================] - 0s 924us/step - loss: 0.2045\n",
      "Epoch 53/100\n",
      "20/20 [==============================] - 0s 1ms/step - loss: 0.2089\n",
      "Epoch 54/100\n",
      "20/20 [==============================] - 0s 1ms/step - loss: 0.2123\n",
      "Epoch 55/100\n",
      "20/20 [==============================] - 0s 1ms/step - loss: 0.2023\n",
      "Epoch 56/100\n",
      "20/20 [==============================] - 0s 1ms/step - loss: 0.1985\n",
      "Epoch 57/100\n",
      "20/20 [==============================] - 0s 1ms/step - loss: 0.2089\n",
      "Epoch 58/100\n",
      "20/20 [==============================] - 0s 1ms/step - loss: 0.2043\n",
      "Epoch 59/100\n",
      "20/20 [==============================] - 0s 1ms/step - loss: 0.1990\n",
      "Epoch 60/100\n",
      "20/20 [==============================] - 0s 1ms/step - loss: 0.1934\n",
      "Epoch 61/100\n",
      "20/20 [==============================] - 0s 1ms/step - loss: 0.2032\n",
      "Epoch 62/100\n",
      "20/20 [==============================] - 0s 1ms/step - loss: 0.1963\n",
      "Epoch 63/100\n",
      "20/20 [==============================] - 0s 1ms/step - loss: 0.1923\n",
      "Epoch 64/100\n",
      "20/20 [==============================] - 0s 1ms/step - loss: 0.1951\n",
      "Epoch 65/100\n",
      "20/20 [==============================] - 0s 1ms/step - loss: 0.1923\n",
      "Epoch 66/100\n",
      "20/20 [==============================] - 0s 959us/step - loss: 0.1836\n",
      "Epoch 67/100\n",
      "20/20 [==============================] - 0s 1ms/step - loss: 0.1848\n",
      "Epoch 68/100\n",
      "20/20 [==============================] - 0s 1ms/step - loss: 0.1978\n",
      "Epoch 69/100\n",
      "20/20 [==============================] - 0s 1ms/step - loss: 0.1836\n",
      "Epoch 70/100\n",
      "20/20 [==============================] - 0s 1ms/step - loss: 0.1867\n",
      "Epoch 71/100\n",
      "20/20 [==============================] - 0s 1ms/step - loss: 0.1912\n",
      "Epoch 72/100\n",
      "20/20 [==============================] - 0s 1ms/step - loss: 0.1841\n",
      "Epoch 73/100\n",
      "20/20 [==============================] - 0s 922us/step - loss: 0.1832\n",
      "Epoch 74/100\n",
      "20/20 [==============================] - 0s 1ms/step - loss: 0.1960\n",
      "Epoch 75/100\n",
      "20/20 [==============================] - 0s 986us/step - loss: 0.1924\n",
      "Epoch 76/100\n",
      "20/20 [==============================] - 0s 1ms/step - loss: 0.1834\n",
      "Epoch 77/100\n",
      "20/20 [==============================] - 0s 1ms/step - loss: 0.1814\n",
      "Epoch 78/100\n",
      "20/20 [==============================] - 0s 1ms/step - loss: 0.1859\n",
      "Epoch 79/100\n",
      "20/20 [==============================] - 0s 1ms/step - loss: 0.1789\n",
      "Epoch 80/100\n",
      "20/20 [==============================] - 0s 1ms/step - loss: 0.1897\n",
      "Epoch 81/100\n",
      "20/20 [==============================] - 0s 1ms/step - loss: 0.1787\n",
      "Epoch 82/100\n",
      "20/20 [==============================] - 0s 1ms/step - loss: 0.1677\n",
      "Epoch 83/100\n",
      "20/20 [==============================] - 0s 1ms/step - loss: 0.1864\n",
      "Epoch 84/100\n",
      "20/20 [==============================] - 0s 1ms/step - loss: 0.1784\n",
      "Epoch 85/100\n",
      "20/20 [==============================] - 0s 1ms/step - loss: 0.1707\n",
      "Epoch 86/100\n",
      "20/20 [==============================] - 0s 1ms/step - loss: 0.1749\n",
      "Epoch 87/100\n",
      "20/20 [==============================] - 0s 1ms/step - loss: 0.1701\n",
      "Epoch 88/100\n",
      "20/20 [==============================] - 0s 1ms/step - loss: 0.1804\n",
      "Epoch 89/100\n",
      "20/20 [==============================] - 0s 1ms/step - loss: 0.1785\n",
      "Epoch 90/100\n",
      "20/20 [==============================] - 0s 977us/step - loss: 0.1812\n",
      "Epoch 91/100\n",
      "20/20 [==============================] - 0s 1ms/step - loss: 0.1840\n",
      "Epoch 92/100\n",
      "20/20 [==============================] - 0s 976us/step - loss: 0.1651\n",
      "Epoch 93/100\n",
      "20/20 [==============================] - 0s 1ms/step - loss: 0.1763\n",
      "Epoch 94/100\n",
      "20/20 [==============================] - 0s 1ms/step - loss: 0.1642\n",
      "Epoch 95/100\n",
      "20/20 [==============================] - 0s 1ms/step - loss: 0.1853\n",
      "Epoch 96/100\n",
      "20/20 [==============================] - 0s 969us/step - loss: 0.1726\n",
      "Epoch 97/100\n",
      "20/20 [==============================] - 0s 1ms/step - loss: 0.1755\n",
      "Epoch 98/100\n",
      "20/20 [==============================] - 0s 971us/step - loss: 0.1589\n",
      "Epoch 99/100\n",
      "20/20 [==============================] - 0s 929us/step - loss: 0.1616\n",
      "Epoch 100/100\n",
      "20/20 [==============================] - 0s 918us/step - loss: 0.1705\n"
     ]
    },
    {
     "data": {
      "text/plain": [
       "<tensorflow.python.keras.callbacks.History at 0x7ff87434b690>"
      ]
     },
     "execution_count": 30,
     "metadata": {},
     "output_type": "execute_result"
    }
   ],
   "source": [
    "model.fit(x_train, y_train, epochs=100, batch_size=20)"
   ]
  },
  {
   "cell_type": "code",
   "execution_count": null,
   "metadata": {},
   "outputs": [],
   "source": []
  },
  {
   "cell_type": "code",
   "execution_count": null,
   "metadata": {},
   "outputs": [],
   "source": []
  }
 ],
 "metadata": {
  "kernelspec": {
   "display_name": "Python 3",
   "language": "python",
   "name": "python3"
  },
  "language_info": {
   "codemirror_mode": {
    "name": "ipython",
    "version": 3
   },
   "file_extension": ".py",
   "mimetype": "text/x-python",
   "name": "python",
   "nbconvert_exporter": "python",
   "pygments_lexer": "ipython3",
   "version": "3.7.6"
  }
 },
 "nbformat": 4,
 "nbformat_minor": 4
}
