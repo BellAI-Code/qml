{
 "cells": [
  {
   "cell_type": "code",
   "execution_count": 1,
   "metadata": {},
   "outputs": [],
   "source": [
    "import sklearn.datasets"
   ]
  },
  {
   "cell_type": "code",
   "execution_count": 2,
   "metadata": {},
   "outputs": [],
   "source": [
    "d = sklearn.datasets.make_multilabel_classification(n_samples=200, n_features=2, n_classes=3, n_labels=1, allow_unlabeled=False)"
   ]
  },
  {
   "cell_type": "code",
   "execution_count": 3,
   "metadata": {},
   "outputs": [
    {
     "data": {
      "text/plain": [
       "array([[1, 1, 0],\n",
       "       [1, 1, 0],\n",
       "       [1, 1, 0],\n",
       "       [0, 1, 0],\n",
       "       [1, 0, 0],\n",
       "       [0, 1, 0],\n",
       "       [1, 1, 0],\n",
       "       [0, 1, 0],\n",
       "       [1, 1, 1],\n",
       "       [0, 1, 0]])"
      ]
     },
     "execution_count": 3,
     "metadata": {},
     "output_type": "execute_result"
    }
   ],
   "source": [
    "d[1][:10]"
   ]
  },
  {
   "cell_type": "code",
   "execution_count": 4,
   "metadata": {},
   "outputs": [
    {
     "data": {
      "text/plain": [
       "array([[35., 34.],\n",
       "       [18., 36.],\n",
       "       [13., 31.],\n",
       "       [ 4., 43.],\n",
       "       [39., 11.],\n",
       "       [ 7., 38.],\n",
       "       [16., 34.],\n",
       "       [ 7., 44.],\n",
       "       [12., 26.],\n",
       "       [ 7., 39.]])"
      ]
     },
     "execution_count": 4,
     "metadata": {},
     "output_type": "execute_result"
    }
   ],
   "source": [
    "d[0][:10]"
   ]
  },
  {
   "cell_type": "code",
   "execution_count": 5,
   "metadata": {},
   "outputs": [],
   "source": [
    "import matplotlib.pyplot as plt"
   ]
  },
  {
   "cell_type": "code",
   "execution_count": 6,
   "metadata": {},
   "outputs": [
    {
     "data": {
      "text/plain": [
       "<matplotlib.collections.PathCollection at 0x7f99c0d7fe90>"
      ]
     },
     "execution_count": 6,
     "metadata": {},
     "output_type": "execute_result"
    },
    {
     "data": {
      "image/png": "[encoded data removed]",
      "text/plain": [
       "<Figure size 432x288 with 1 Axes>"
      ]
     },
     "metadata": {
      "needs_background": "light"
     },
     "output_type": "display_data"
    }
   ],
   "source": [
    "plt.scatter(d[0][:, 0], d[0][:, 1])"
   ]
  },
  {
   "cell_type": "code",
   "execution_count": 63,
   "metadata": {},
   "outputs": [],
   "source": [
    "import pennylane as qml\n",
    "import tensorflow as tf\n",
    "import sklearn.datasets\n",
    "\n",
    "n_qubits = 3\n",
    "n_layers = 3\n",
    "dev = qml.device(\"default.qubit\", wires=n_qubits)\n",
    "\n",
    "@qml.qnode(dev)\n",
    "def qnode(inputs, weights):\n",
    "    qml.templates.AngleEmbedding(inputs, wires=range(n_qubits))\n",
    "    qml.templates.StronglyEntanglingLayers(weights, wires=range(n_qubits))\n",
    "    return qml.expval(qml.PauliZ(0)), qml.expval(qml.PauliZ(1))\n",
    "\n",
    "weight_shapes = {\"weights\": (n_layers, n_qubits, 3)}"
   ]
  },
  {
   "cell_type": "code",
   "execution_count": 73,
   "metadata": {},
   "outputs": [],
   "source": [
    "qlayer = qml.qnn.KerasLayer(qnode, weight_shapes, output_dim=2)\n",
    "clayer1 = tf.keras.layers.Dense(3)\n",
    "clayer2 = tf.keras.layers.Dense(3)\n",
    "model = tf.keras.models.Sequential([\n",
    "    tf.keras.layers.Dense(6, activation=\"relu\"), \n",
    "    tf.keras.layers.Dense(6, activation=\"relu\"),\n",
    "    tf.keras.layers.Dense(6),\n",
    "#                                     qlayer, \n",
    "    tf.keras.layers.Dense(3, activation=\"softmax\")\n",
    "]\n",
    ")"
   ]
  },
  {
   "cell_type": "code",
   "execution_count": 74,
   "metadata": {},
   "outputs": [],
   "source": [
    "opt = tf.keras.optimizers.Adagrad()\n",
    "loss = tf.keras.losses.CategoricalCrossentropy()\n",
    "model.compile(opt, loss=loss, metrics=['accuracy'])"
   ]
  },
  {
   "cell_type": "code",
   "execution_count": 95,
   "metadata": {},
   "outputs": [
    {
     "name": "stdout",
     "output_type": "stream",
     "text": [
      "Epoch 1/20\n",
      "10/10 [==============================] - 0s 1ms/step - loss: 2.0854 - accuracy: 0.7700\n",
      "Epoch 2/20\n",
      "10/10 [==============================] - 0s 1ms/step - loss: 2.0810 - accuracy: 0.7700\n",
      "Epoch 3/20\n",
      "10/10 [==============================] - 0s 1ms/step - loss: 2.0749 - accuracy: 0.7700\n",
      "Epoch 4/20\n",
      "10/10 [==============================] - 0s 1ms/step - loss: 2.0699 - accuracy: 0.7700\n",
      "Epoch 5/20\n",
      "10/10 [==============================] - 0s 1ms/step - loss: 2.0668 - accuracy: 0.7650\n",
      "Epoch 6/20\n",
      "10/10 [==============================] - 0s 1ms/step - loss: 2.0616 - accuracy: 0.7650\n",
      "Epoch 7/20\n",
      "10/10 [==============================] - 0s 1ms/step - loss: 2.0577 - accuracy: 0.7650\n",
      "Epoch 8/20\n",
      "10/10 [==============================] - 0s 1ms/step - loss: 2.0522 - accuracy: 0.7650\n",
      "Epoch 9/20\n",
      "10/10 [==============================] - 0s 1ms/step - loss: 2.0473 - accuracy: 0.7650\n",
      "Epoch 10/20\n",
      "10/10 [==============================] - 0s 2ms/step - loss: 2.0423 - accuracy: 0.7650\n",
      "Epoch 11/20\n",
      "10/10 [==============================] - 0s 1ms/step - loss: 2.0380 - accuracy: 0.7650\n",
      "Epoch 12/20\n",
      "10/10 [==============================] - 0s 1ms/step - loss: 2.0328 - accuracy: 0.7650\n",
      "Epoch 13/20\n",
      "10/10 [==============================] - 0s 1ms/step - loss: 2.0277 - accuracy: 0.7650\n",
      "Epoch 14/20\n",
      "10/10 [==============================] - 0s 1ms/step - loss: 2.0234 - accuracy: 0.7650\n",
      "Epoch 15/20\n",
      "10/10 [==============================] - 0s 1ms/step - loss: 2.0186 - accuracy: 0.7650\n",
      "Epoch 16/20\n",
      "10/10 [==============================] - 0s 1ms/step - loss: 2.0147 - accuracy: 0.7650\n",
      "Epoch 17/20\n",
      "10/10 [==============================] - 0s 1ms/step - loss: 2.0095 - accuracy: 0.7650\n",
      "Epoch 18/20\n",
      "10/10 [==============================] - 0s 1ms/step - loss: 2.0045 - accuracy: 0.7650\n",
      "Epoch 19/20\n",
      "10/10 [==============================] - 0s 1ms/step - loss: 2.0006 - accuracy: 0.7650\n",
      "Epoch 20/20\n",
      "10/10 [==============================] - 0s 1ms/step - loss: 1.9955 - accuracy: 0.7650\n"
     ]
    },
    {
     "data": {
      "text/plain": [
       "<tensorflow.python.keras.callbacks.History at 0x7f98fc444810>"
      ]
     },
     "execution_count": 95,
     "metadata": {},
     "output_type": "execute_result"
    }
   ],
   "source": [
    "model.fit(d[0], d[1], epochs=20, batch_size=20)"
   ]
  },
  {
   "cell_type": "code",
   "execution_count": null,
   "metadata": {},
   "outputs": [],
   "source": []
  }
 ],
 "metadata": {
  "kernelspec": {
   "display_name": "Python 3",
   "language": "python",
   "name": "python3"
  },
  "language_info": {
   "codemirror_mode": {
    "name": "ipython",
    "version": 3
   },
   "file_extension": ".py",
   "mimetype": "text/x-python",
   "name": "python",
   "nbconvert_exporter": "python",
   "pygments_lexer": "ipython3",
   "version": "3.7.6"
  }
 },
 "nbformat": 4,
 "nbformat_minor": 4
}
