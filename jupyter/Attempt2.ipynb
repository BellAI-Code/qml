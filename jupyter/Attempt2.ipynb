{
 "cells": [
  {
   "cell_type": "code",
   "execution_count": 1,
   "metadata": {},
   "outputs": [
    {
     "data": {
      "image/png": "[encoded data removed]",
      "text/plain": [
       "<Figure size 432x288 with 1 Axes>"
      ]
     },
     "metadata": {
      "needs_background": "light"
     },
     "output_type": "display_data"
    },
    {
     "name": "stdout",
     "output_type": "stream",
     "text": [
      "Epoch 1/8\n",
      "30/30 [==============================] - 7s 233ms/step - loss: 0.4887 - accuracy: 0.5133 - val_loss: 0.4140 - val_accuracy: 0.7600\n",
      "Epoch 2/8\n",
      "30/30 [==============================] - 7s 233ms/step - loss: 0.3680 - accuracy: 0.8067 - val_loss: 0.2307 - val_accuracy: 0.9200\n",
      "Epoch 3/8\n",
      "30/30 [==============================] - 7s 241ms/step - loss: 0.2791 - accuracy: 0.7933 - val_loss: 0.1240 - val_accuracy: 0.9800\n",
      "Epoch 4/8\n",
      "30/30 [==============================] - 7s 241ms/step - loss: 0.2373 - accuracy: 0.8133 - val_loss: 0.0949 - val_accuracy: 1.0000\n",
      "Epoch 5/8\n",
      "30/30 [==============================] - 7s 244ms/step - loss: 0.2183 - accuracy: 0.8067 - val_loss: 0.0718 - val_accuracy: 1.0000\n",
      "Epoch 6/8\n",
      "30/30 [==============================] - 8s 252ms/step - loss: 0.2070 - accuracy: 0.8133 - val_loss: 0.0618 - val_accuracy: 1.0000\n",
      "Epoch 7/8\n",
      "30/30 [==============================] - 8s 252ms/step - loss: 0.2039 - accuracy: 0.8133 - val_loss: 0.0517 - val_accuracy: 1.0000\n",
      "Epoch 8/8\n",
      "30/30 [==============================] - 8s 256ms/step - loss: 0.1966 - accuracy: 0.8267 - val_loss: 0.0447 - val_accuracy: 1.0000\n"
     ]
    },
    {
     "data": {
      "text/plain": [
       "<tensorflow.python.keras.callbacks.History at 0x7f9b88ab6890>"
      ]
     },
     "execution_count": 1,
     "metadata": {},
     "output_type": "execute_result"
    }
   ],
   "source": [
    "r\"\"\"\n",
    "Hybrid quantum-classical ML using Keras and PyTorch\n",
    "===================================================\n",
    "\n",
    ".. meta::\n",
    "    :property=\"og:description\": TODO\n",
    "    :property=\"og:image\": TODO\n",
    "\n",
    "In PennyLane, variational quantum circuits are treated as :doc:`quantum nodes\n",
    "<../glossary/hybrid_computation>` (QNodes) that can be thought of simply as functions with a\n",
    "defined output and gradient for a given input. QNodes can be combined with classical nodes to\n",
    "form a hybrid model, which can be trained using the TensorFlow, PyTorch or Autograd/NumPy\n",
    ":doc:`interfaces <introduction/interfaces>`.\n",
    "\n",
    "Composing computational nodes is a fundamental tool of any machine learning package. However,\n",
    "it is often useful to have access to additional high-level functionality for model construction\n",
    "and training. TensorFlow and PyTorch both provide a high-level API for creating neural networks:\n",
    "TensorFlow integrates with `Keras <https://keras.io/>`__ while PyTorch includes a\n",
    "`torch.nn <https://pytorch.org/docs/stable/nn.html>`__ module.\n",
    "\n",
    "This tutorial shows how QNodes in PennyLane can be interfaced with `Keras <https://keras.io/>`__ and\n",
    "`torch.nn <https://pytorch.org/docs/stable/nn.html>`__ to provide a high-level approach to\n",
    "creating hybrid quantum-classical models.\n",
    "\n",
    "Fixing the dataset and problem\n",
    "------------------------------\n",
    "\n",
    "Let us begin by choosing a simple dataset and problem to allow us to focus on how the hybrid\n",
    "model is constructed. Our objective is to classify points generated from scikit-learn's\n",
    "`make_moons() <https://scikit-learn.org/stable/modules/generated/sklearn.datasets.make_moons.html>`__ dataset:\n",
    "\"\"\"\n",
    "\n",
    "import matplotlib.pyplot as plt\n",
    "from sklearn.datasets import make_moons\n",
    "import tensorflow as tf\n",
    "\n",
    "X, y = make_moons(n_samples=200, noise=0.1)\n",
    "y_hot = tf.keras.utils.to_categorical(y, num_classes=2)  # one-hot encoded labels\n",
    "\n",
    "c = ['#1f77b4' if y_ == 0 else '#ff7f0e' for y_ in y]\n",
    "plt.axis('off')\n",
    "plt.scatter(X[:, 0], X[:, 1], c=c)\n",
    "plt.show()\n",
    "\n",
    "###############################################################################\n",
    "# Defining a QNode\n",
    "# ----------------\n",
    "#\n",
    "# Our next step is to define the QNode that we want to interface with `Keras <https://keras.io/>`__\n",
    "# or `torch.nn <https://pytorch.org/docs/stable/nn.html>`__. Any combination of device, operations\n",
    "# and measurements that is valid in PennyLane can be used to compose the QNode. However,\n",
    "# the QNode arguments must satisfy additional\n",
    "# `conditions <https://pennylane.readthedocs.io/en/stable/code/api/pennylane.qnn.KerasLayer.html#usageDetails>`__\n",
    "# including having an argument called ``inputs``. All other arguments must be arrays or tensors\n",
    "# and are treated as trainable weights in the model. We fix a two-qubit QNode using the\n",
    "# :doc:`default.qubit <code/api/pennylane.plugins.default_qubit.DefaultQubit>` simulator and\n",
    "# operations from the :doc:`templates <introduction/templates>` module.\n",
    "\n",
    "import pennylane as qml\n",
    "\n",
    "n_qubits = 2\n",
    "dev = qml.device(\"default.qubit\", wires=n_qubits)\n",
    "\n",
    "\n",
    "@qml.qnode(dev)\n",
    "def qnode(inputs, weights):\n",
    "    qml.templates.AngleEmbedding(inputs, wires=range(n_qubits))\n",
    "    qml.templates.StronglyEntanglingLayers(weights, wires=range(n_qubits))\n",
    "    return [qml.expval(qml.PauliZ(wires=i)) for i in range(n_qubits)]\n",
    "\n",
    "###############################################################################\n",
    "# Note that we do not need to specify the ``interface`` argument in the :func:`~pennylane.qnode`\n",
    "# decorator.\n",
    "#\n",
    "# Interfacing with Keras and Torch\n",
    "# --------------------------------\n",
    "#\n",
    "# With the QNode defined, we are nearly ready to interface with `Keras <https://keras.io/>`__ or\n",
    "# `torch.nn <https://pytorch.org/docs/stable/nn.html>`__. This is achieved using the\n",
    "# :class:`~pennylane.qnn.KerasLayer` and :class:`~pennylane.qnn.TorchLayer` classes of the\n",
    "# :mod:`~pennylane.qnn` module, which convert the QNode to the elementary building block of these\n",
    "# high-level frameworks: a *layer*. We shall see in the following how the resultant layer can be\n",
    "# combined with other well-known neural network layers to form a hybrid model.\n",
    "#\n",
    "# Before doing this, we must first define the ``weight_shapes`` dictionary. Recall that all of\n",
    "# the arguments of the QNode except for the ``inputs``-named argument are treated as trainable\n",
    "# weights. For the QNode to be successfully converted to a layer in `Keras <https://keras.io/>`__ or\n",
    "# `torch.nn <https://pytorch.org/docs/stable/nn.html>`__, we need to provide the details of the\n",
    "# shape of each trainable weight for them to be initialized. The ``weight_shapes`` dictionary\n",
    "# maps from the argument names of the QNode to corresponding weights:\n",
    "\n",
    "n_layers = 3\n",
    "weight_shapes = {\"weights\": (n_layers, n_qubits, 3)}\n",
    "\n",
    "###############################################################################\n",
    "# In our example, the ``weights`` argument of the QNode is trainable and has shape given by\n",
    "# ``(n_layers, n_qubits, 3)`` which are passed to\n",
    "# :func:`~pennylane.templates.layers.StronglyEntanglingLayers`.\n",
    "#\n",
    "# With ``weight_shapes`` defined, it is easy to then convert the QNode. To convert to\n",
    "# `Keras <https://keras.io/>`__:\n",
    "\n",
    "qlayer_tf = qml.qnn.KerasLayer(qnode, weight_shapes, output_dim=n_qubits)\n",
    "\n",
    "###############################################################################\n",
    "# To convert to `torch.nn <https://pytorch.org/docs/stable/nn.html>`__:\n",
    "\n",
    "qlayer_torch = qml.qnn.TorchLayer(qnode, weight_shapes)\n",
    "\n",
    "###############################################################################\n",
    "# With this done, the rest is just working with your favourite classical machine learning library!\n",
    "#\n",
    "# Creating a hybrid model\n",
    "# -----------------------\n",
    "#\n",
    "# Let's create a basic three-layered hybrid model consisting of:\n",
    "#\n",
    "# 1. A 2-neuron fully connected classical layer\n",
    "# 2. Our 2-qubit QNode converted into a layer\n",
    "# 3. Another 2-neuron fully connected classical layer\n",
    "# 4. A softmax activation to convert to a probability vector\n",
    "#\n",
    "# This can be done using the ``Sequential`` API in both `Keras <https://keras.io/>`__ and `torch.nn\n",
    "# <https://pytorch.org/docs/stable/nn.html>`__. First, using the `Keras <https://keras.io/>`__\n",
    "# `Sequential <https://www.tensorflow.org/api_docs/python/tf/keras/Sequential>`__:\n",
    "\n",
    "clayer1_tf = tf.keras.layers.Dense(2)\n",
    "clayer2_tf = tf.keras.layers.Dense(2, activation=\"softmax\")\n",
    "model_tf = tf.keras.models.Sequential([clayer1_tf, qlayer_tf, clayer2_tf])\n",
    "\n",
    "###############################################################################\n",
    "# Similarly, using `torch.nn <https://pytorch.org/docs/stable/nn.html>`__\n",
    "# `Sequential <https://pytorch.org/docs/stable/nn.html#sequential>`__:\n",
    "\n",
    "import torch\n",
    "\n",
    "clayer1_torch = torch.nn.Linear(2, 2)\n",
    "clayer2_torch = torch.nn.Linear(2, 2)\n",
    "softmax_torch = torch.nn.Softmax(dim=1)\n",
    "model_torch = torch.nn.Sequential(clayer1_torch, qlayer_torch, clayer2_torch, softmax_torch)\n",
    "\n",
    "###############################################################################\n",
    "# Constructing hybrid models is easy!\n",
    "#\n",
    "# Training the model\n",
    "# ------------------\n",
    "#\n",
    "# We can now train our hybrid model on the the classification dataset using the usual\n",
    "# approaches in `Keras <https://keras.io/>`__ and\n",
    "# `torch.nn <https://pytorch.org/docs/stable/nn.html>`__. Let's focus on Keras. We'll use the\n",
    "# standard `SGD <https://www.tensorflow.org/api_docs/python/tf/keras/optimizers/SGD>`__ optimizer\n",
    "# and the mean absolute error loss function:\n",
    "\n",
    "opt = tf.keras.optimizers.SGD(learning_rate=0.2)\n",
    "model_tf.compile(opt, loss='mae', metrics=['accuracy'])\n",
    "\n",
    "###############################################################################\n",
    "# Note that there are more advanced combinations of optimizer and loss function, but here we are\n",
    "# focusing on the basics.\n",
    "#\n",
    "# The model is now ready to be trained!\n",
    "\n",
    "X = X.astype(\"float32\")\n",
    "y_hot = y_hot.astype(\"float32\")\n",
    "model_tf.fit(X, y_hot, epochs=8, batch_size=5, validation_split=0.25)"
   ]
  },
  {
   "cell_type": "code",
   "execution_count": 2,
   "metadata": {},
   "outputs": [],
   "source": [
    "qlayer_tf = qml.qnn.KerasLayer(qnode, weight_shapes, output_dim=n_qubits)\n",
    "qlayer_tf_2 = qml.qnn.KerasLayer(qnode, weight_shapes, output_dim=n_qubits)\n",
    "clayer1_tf = tf.keras.layers.Dense(4)\n",
    "clayer2_tf = tf.keras.layers.Dense(2, activation=\"softmax\")\n",
    "\n",
    "inputs = tf.keras.Input(shape=(2,))\n",
    "x = clayer1_tf(inputs)\n",
    "x_1, x_2 = tf.split(x, 2, axis=1)\n",
    "x_1 = qlayer_tf(x_1)\n",
    "x_2 = qlayer_tf_2(x_2)\n",
    "x = tf.concat([x_1, x_2], axis=1)\n",
    "outputs = clayer2_tf(x)"
   ]
  },
  {
   "cell_type": "code",
   "execution_count": 3,
   "metadata": {},
   "outputs": [],
   "source": [
    "model = tf.keras.Model(inputs=inputs, outputs=outputs)"
   ]
  },
  {
   "cell_type": "code",
   "execution_count": 4,
   "metadata": {},
   "outputs": [
    {
     "data": {
      "text/plain": [
       "array([[0.2955182 , 0.70448184],\n",
       "       [0.30017173, 0.6998282 ]], dtype=float32)"
      ]
     },
     "execution_count": 4,
     "metadata": {},
     "output_type": "execute_result"
    }
   ],
   "source": [
    "model.predict(X[:2])"
   ]
  },
  {
   "cell_type": "code",
   "execution_count": 5,
   "metadata": {},
   "outputs": [],
   "source": [
    "opt = tf.keras.optimizers.SGD(learning_rate=0.2)\n",
    "model.compile(opt, loss='mae', metrics=['accuracy'])"
   ]
  },
  {
   "cell_type": "code",
   "execution_count": 6,
   "metadata": {},
   "outputs": [
    {
     "data": {
      "text/plain": [
       "(200, 2)"
      ]
     },
     "execution_count": 6,
     "metadata": {},
     "output_type": "execute_result"
    }
   ],
   "source": [
    "y_hot.shape"
   ]
  },
  {
   "cell_type": "code",
   "execution_count": 7,
   "metadata": {},
   "outputs": [
    {
     "name": "stdout",
     "output_type": "stream",
     "text": [
      "Epoch 1/8\n",
      "30/30 [==============================] - 14s 451ms/step - loss: 0.4933 - accuracy: 0.5000 - val_loss: 0.4314 - val_accuracy: 0.5000\n",
      "Epoch 2/8\n",
      "30/30 [==============================] - 14s 464ms/step - loss: 0.3590 - accuracy: 0.7667 - val_loss: 0.1584 - val_accuracy: 1.0000\n",
      "Epoch 3/8\n",
      "30/30 [==============================] - 15s 494ms/step - loss: 0.2294 - accuracy: 0.8200 - val_loss: 0.0751 - val_accuracy: 0.9800\n",
      "Epoch 4/8\n",
      "30/30 [==============================] - 15s 486ms/step - loss: 0.2113 - accuracy: 0.8067 - val_loss: 0.0527 - val_accuracy: 1.0000\n",
      "Epoch 5/8\n",
      "30/30 [==============================] - 16s 538ms/step - loss: 0.1971 - accuracy: 0.8200 - val_loss: 0.0465 - val_accuracy: 1.0000\n",
      "Epoch 6/8\n",
      "30/30 [==============================] - 16s 537ms/step - loss: 0.1906 - accuracy: 0.8133 - val_loss: 0.0446 - val_accuracy: 1.0000\n",
      "Epoch 7/8\n",
      "30/30 [==============================] - 15s 485ms/step - loss: 0.1896 - accuracy: 0.8267 - val_loss: 0.0332 - val_accuracy: 1.0000\n",
      "Epoch 8/8\n",
      "30/30 [==============================] - 15s 515ms/step - loss: 0.1832 - accuracy: 0.8400 - val_loss: 0.0414 - val_accuracy: 1.0000\n"
     ]
    },
    {
     "data": {
      "text/plain": [
       "<tensorflow.python.keras.callbacks.History at 0x7f9b80389a50>"
      ]
     },
     "execution_count": 7,
     "metadata": {},
     "output_type": "execute_result"
    }
   ],
   "source": [
    "model.fit(X, y_hot, epochs=8, batch_size=5, validation_split=0.25)"
   ]
  },
  {
   "cell_type": "code",
   "execution_count": 9,
   "metadata": {},
   "outputs": [
    {
     "name": "stdout",
     "output_type": "stream",
     "text": [
      "Model: \"model\"\n",
      "__________________________________________________________________________________________________\n",
      "Layer (type)                    Output Shape         Param #     Connected to                     \n",
      "==================================================================================================\n",
      "input_1 (InputLayer)            [(None, 2)]          0                                            \n",
      "__________________________________________________________________________________________________\n",
      "dense_2 (Dense)                 (None, 4)            12          input_1[0][0]                    \n",
      "__________________________________________________________________________________________________\n",
      "tf_op_layer_split (TensorFlowOp [(None, 2), (None, 2 0           dense_2[0][0]                    \n",
      "__________________________________________________________________________________________________\n",
      "keras_layer_1 (KerasLayer)      (None, 2)            18          tf_op_layer_split[0][0]          \n",
      "__________________________________________________________________________________________________\n",
      "keras_layer_2 (KerasLayer)      (None, 2)            18          tf_op_layer_split[0][1]          \n",
      "__________________________________________________________________________________________________\n",
      "tf_op_layer_concat (TensorFlowO [(None, 4)]          0           keras_layer_1[0][0]              \n",
      "                                                                 keras_layer_2[0][0]              \n",
      "__________________________________________________________________________________________________\n",
      "dense_3 (Dense)                 (None, 2)            10          tf_op_layer_concat[0][0]         \n",
      "==================================================================================================\n",
      "Total params: 58\n",
      "Trainable params: 58\n",
      "Non-trainable params: 0\n",
      "__________________________________________________________________________________________________\n"
     ]
    }
   ],
   "source": [
    "model.summary()"
   ]
  },
  {
   "cell_type": "code",
   "execution_count": 54,
   "metadata": {},
   "outputs": [],
   "source": [
    "clayer1_torch = torch.nn.Linear(2, 4)\n",
    "qlayer_torch = qml.qnn.TorchLayer(qnode, weight_shapes)\n",
    "qlayer_torch_2 = qml.qnn.TorchLayer(qnode, weight_shapes)\n",
    "clayer2_torch = torch.nn.Linear(4, 2)\n",
    "softmax_torch = torch.nn.Softmax(dim=1)\n",
    "\n",
    "class Model(torch.nn.Module):\n",
    "    def forward(self, x):\n",
    "        x = clayer1_torch(x)\n",
    "        x_1, x_2 = torch.split(x, 2, dim=1)\n",
    "        x_1 = qlayer_torch(x_1)\n",
    "        x_2 = qlayer_torch_2(x_2)\n",
    "        x = torch.cat([x_1, x_2], axis=1)\n",
    "        x = clayer2_torch(x)\n",
    "        return softmax_torch(x)\n",
    "\n",
    "model = Model()"
   ]
  },
  {
   "cell_type": "code",
   "execution_count": 55,
   "metadata": {},
   "outputs": [],
   "source": [
    "X_torch = torch.tensor(X)"
   ]
  },
  {
   "cell_type": "code",
   "execution_count": 56,
   "metadata": {},
   "outputs": [
    {
     "data": {
      "text/plain": [
       "tensor([[0.5503, 0.4497],\n",
       "        [0.5652, 0.4348],\n",
       "        [0.6196, 0.3804],\n",
       "        [0.5740, 0.4260]], grad_fn=<SoftmaxBackward>)"
      ]
     },
     "execution_count": 56,
     "metadata": {},
     "output_type": "execute_result"
    }
   ],
   "source": [
    "model(X_torch[:4])"
   ]
  },
  {
   "cell_type": "code",
   "execution_count": null,
   "metadata": {},
   "outputs": [],
   "source": []
  }
 ],
 "metadata": {
  "kernelspec": {
   "display_name": "Python 3",
   "language": "python",
   "name": "python3"
  },
  "language_info": {
   "codemirror_mode": {
    "name": "ipython",
    "version": 3
   },
   "file_extension": ".py",
   "mimetype": "text/x-python",
   "name": "python",
   "nbconvert_exporter": "python",
   "pygments_lexer": "ipython3",
   "version": "3.7.6"
  }
 },
 "nbformat": 4,
 "nbformat_minor": 4
}
