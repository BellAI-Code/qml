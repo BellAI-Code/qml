{
  "cells": [
    {
      "cell_type": "code",
      "execution_count": null,
      "metadata": {
        "collapsed": false
      },
      "outputs": [],
      "source": [
        "# This cell is added by sphinx-gallery\n# It can be customized to whatever you like\n%matplotlib inline"
      ]
    },
    {
      "cell_type": "markdown",
      "metadata": {},
      "source": [
        "\nA brief overview of VQE\n=======================\n\nThe Variational Quantum Eigensolver (VQE) `[1, 2]<vqe_references>` is a flagship algorithm for\nquantum chemistry using near-term quantum computers. VQE is an application of the `Ritz variational\nprinciple <https://en.wikipedia.org/wiki/Ritz_method>`_  where a quantum computer is used to \nprepare a wave function ansatz of the molecule and estimate the expectation value of its electronic\nHamiltonian while a classical optimizer is used to adjust the quantum circuit parameters in order \nto find the molecule's ground state energy.\n\nFor example, if we use a minimal basis, the ground state wave function of the hydrogen molecule \n$\\vert \\Psi \\rangle = \\alpha \\vert 1100 \\rangle + \\beta \\vert 0011 \\rangle$ consists of only\nthe Hartree-Fock component and a doubly-excited configuration where the two electrons occupy the \nhighest-energy molecular orbitals. If we use a quantum computer to prepare the four-qubit \nentangled state $\\vert \\Psi \\rangle$, the ultimate goal of the VQE algorithm \nis to find the values of $\\alpha$ and $\\beta$ that minimize the expectation value of \nthe electronic Hamiltonian.\n \nThe PennyLane library allows users to implement the full VQE algorithm using only a few\nlines of code. In this tutorial, we guide you through a calculation of the ground-state energy of\nthe hydrogen molecule. Let's get started! \u269b\ufe0f\n\nBuilding the electronic Hamiltonian\n-----------------------------------\n\nThe first step is to import the required libraries and packages:\n"
      ]
    },
    {
      "cell_type": "code",
      "execution_count": null,
      "metadata": {
        "collapsed": false
      },
      "outputs": [],
      "source": [
        "import pennylane as qml\nfrom pennylane import numpy as np"
      ]
    },
    {
      "cell_type": "markdown",
      "metadata": {},
      "source": [
        "The second step is to specify the molecule whose properties we aim to calculate.\nThis is done by providing three pieces of information: the geometry and charge of the molecule,\nand the spin multiplicity of the electronic configuration.\n\nThe geometry of a molecule is given by the three-dimensional coordinates and symbols of all\nits atomic species. There are several databases such as `the NIST Chemistry\nWebBook <https://webbook.nist.gov/chemistry/name-ser/>`_, `ChemSpider <http://www.chemspider.com/>`_\nand `SMART-SNS <http://smart.sns.it/molecules/>`_ that provide\ngeometrical data for a large number of molecules. Here, we make use of a locally saved file in\n``.xyz`` format that contains the geometry of the hydrogen molecule, and specify its name for\nlater use:\n\n"
      ]
    },
    {
      "cell_type": "code",
      "execution_count": null,
      "metadata": {
        "collapsed": false
      },
      "outputs": [],
      "source": [
        "geometry = 'h2.xyz'"
      ]
    },
    {
      "cell_type": "markdown",
      "metadata": {},
      "source": [
        "Alternatively, you can download the file here: :download:`h2.xyz </implementations/h2.xyz>`.\n\nThe charge determines the number of electrons that have been added or removed compared to the\nneutral molecule. In this example, as is the case in many quantum chemistry simulations,\nwe will consider a neutral molecule:\n\n"
      ]
    },
    {
      "cell_type": "code",
      "execution_count": null,
      "metadata": {
        "collapsed": false
      },
      "outputs": [],
      "source": [
        "charge = 0"
      ]
    },
    {
      "cell_type": "markdown",
      "metadata": {},
      "source": [
        "It is also important to define how the electrons occupy the molecular orbitals to be optimized\nwithin the `Hartree-Fock approximation <https://en.wikipedia.org/wiki/Hartree-Fock_method>`__. \nThis is captured by the `multiplicity <https://en.wikipedia.org/wiki/Multiplicity_(chemistry)>`_ \nparameter, which is related to the number of unpaired electrons in the Hartree-Fock state. For \nthe neutral hydrogen molecule, the multiplicity is one:\n\n"
      ]
    },
    {
      "cell_type": "code",
      "execution_count": null,
      "metadata": {
        "collapsed": false
      },
      "outputs": [],
      "source": [
        "multiplicity = 1"
      ]
    },
    {
      "cell_type": "markdown",
      "metadata": {},
      "source": [
        "Finally, we need to specify the `basis set <https://en.wikipedia.org/wiki/Basis_set_(\nchemistry)>`_ used to approximate atomic orbitals. This is typically achieved by using a linear\ncombination of Gaussian functions. In this example, we will use the minimal basis STO-3g where a\nset of 3 Gaussian functions are contracted to represent an atomic Slater-type orbital (STO):\n\n"
      ]
    },
    {
      "cell_type": "code",
      "execution_count": null,
      "metadata": {
        "collapsed": false
      },
      "outputs": [],
      "source": [
        "basis_set = 'sto-3g'"
      ]
    },
    {
      "cell_type": "markdown",
      "metadata": {},
      "source": [
        "At this stage, to compute the molecule's Hamiltonian in the Pauli basis, several\ncalculations need to be performed. With PennyLane, these can all be done in a\nsingle line by calling the function :func:`~.pennylane_qchem.qchem.generate_hamiltonian`. The\nfirst input to the function is a string denoting the name of the molecule, which will determine\nthe name given to the saved files that are produced during the calculations:\n\n"
      ]
    },
    {
      "cell_type": "code",
      "execution_count": null,
      "metadata": {
        "collapsed": false
      },
      "outputs": [],
      "source": [
        "name = 'h2'"
      ]
    },
    {
      "cell_type": "markdown",
      "metadata": {},
      "source": [
        "The geometry, charge, multiplicity, and basis set must also be specified as input. Finally,\nthe number of active electrons and active orbitals have to be indicated, as well as the\nfermionic-to-qubit mapping, which can be either Jordan-Wigner (``jordan_wigner``) or Bravyi-Kitaev\n(``bravyi_kitaev``). The outputs of the function are the qubit Hamiltonian of the molecule and the\nnumber of qubits needed to represent it:\n\n"
      ]
    },
    {
      "cell_type": "code",
      "execution_count": null,
      "metadata": {
        "collapsed": false
      },
      "outputs": [],
      "source": [
        "h, nr_qubits = qml.qchem.generate_hamiltonian(\n    name,\n    geometry,\n    charge,\n    multiplicity,\n    basis_set,\n    n_active_electrons=2,\n    n_active_orbitals=2,\n    mapping='jordan_wigner'\n)\n\nprint('Number of qubits = ', nr_qubits)\nprint('Hamiltonian is ', h)"
      ]
    },
    {
      "cell_type": "markdown",
      "metadata": {},
      "source": [
        "That's it! From here on, we can use PennyLane as usual, employing its entire stack of\nalgorithms and optimizers.\n\nImplementing the VQE algorithm\n------------------------------\n\nPennyLane contains the :class:`~.pennylane.VQECost` class, specifically\nbuilt to implement the VQE algorithm. We begin by defining the device, in this case a simple\nqubit simulator:\n\n"
      ]
    },
    {
      "cell_type": "code",
      "execution_count": null,
      "metadata": {
        "collapsed": false
      },
      "outputs": [],
      "source": [
        "dev = qml.device('default.qubit', wires=nr_qubits)"
      ]
    },
    {
      "cell_type": "markdown",
      "metadata": {},
      "source": [
        "In VQE, the goal is to train a quantum circuit to prepare the ground state of the input\nHamiltonian. This requires a clever choice of circuit, which should be complex enough to\nprepare the ground state, but also sufficiently easy to optimize. In this example, we employ a\nvariational circuit that is capable of preparing the normalized states of the form \n$\\alpha|1100\\rangle + \\beta|0011\\rangle$ which encode the ground state wave function of \nthe hydrogen molecule described with a minimal basis set. The circuit consists of single-qubit \nrotations on all wires, followed by three entangling CNOT gates, as shown in the figure below:\n\n|\n\n.. figure:: /implementations/variational_quantum_eigensolver/sketch_circuit.png\n    :width: 50%\n    :align: center\n\n|\n\n\n"
      ]
    },
    {
      "cell_type": "markdown",
      "metadata": {},
      "source": [
        "In the circuit, we apply single-qubit rotations, followed by CNOT gates:\n\n"
      ]
    },
    {
      "cell_type": "code",
      "execution_count": null,
      "metadata": {
        "collapsed": false
      },
      "outputs": [],
      "source": [
        "def circuit(params, wires):\n    qml.BasisState(np.array([1, 1, 0, 0]), wires=wires)\n    for i in wires:\n        qml.Rot(*params[i], wires=i)\n    qml.CNOT(wires=[2, 3])\n    qml.CNOT(wires=[2, 0])\n    qml.CNOT(wires=[3, 1])"
      ]
    },
    {
      "cell_type": "markdown",
      "metadata": {},
      "source": [
        "<div class=\"alert alert-info\"><h4>Note</h4><p>The qubit register has been initialized to $|1100\\rangle$ which encodes the\n    Hartree-Fock state of the hydrogen molecule described with a `minimal basis\n    <https://en.wikipedia.org/wiki/Basis_set_(chemistry)#Minimal_basis_sets>`__.</p></div>\n\nThe cost function for optimizing the circuit can be created using the :class:`~.pennylane.VQECost`\nclass, which is tailored for VQE optimization. It requires specifying the\ncircuit, target Hamiltonian, and the device, and returns a cost function that can\nbe evaluated with the circuit parameters:\n\n"
      ]
    },
    {
      "cell_type": "code",
      "execution_count": null,
      "metadata": {
        "collapsed": false
      },
      "outputs": [],
      "source": [
        "cost_fn = qml.VQECost(circuit, h, dev)"
      ]
    },
    {
      "cell_type": "markdown",
      "metadata": {},
      "source": [
        "Wrapping up, we fix an optimizer and randomly initialize circuit parameters. For reliable\nresults, we fix the seed of the random number generator, since in practice it may be necessary\nto re-initialize the circuit several times before convergence occurs.\n\n"
      ]
    },
    {
      "cell_type": "code",
      "execution_count": null,
      "metadata": {
        "collapsed": false
      },
      "outputs": [],
      "source": [
        "opt = qml.GradientDescentOptimizer(stepsize=0.4)\nnp.random.seed(0)\nparams = np.random.normal(0, np.pi, (nr_qubits, 3))\n\nprint(params)"
      ]
    },
    {
      "cell_type": "markdown",
      "metadata": {},
      "source": [
        "We carry out the optimization over a maximum of 200 steps, aiming to reach a convergence\ntolerance (difference in cost function for subsequent optimization steps) of $\\sim 10^{\n-6}$.\n\n"
      ]
    },
    {
      "cell_type": "code",
      "execution_count": null,
      "metadata": {
        "collapsed": false
      },
      "outputs": [],
      "source": [
        "max_iterations = 200\nconv_tol = 1e-06\n\nprev_energy = cost_fn(params)\nfor n in range(max_iterations):\n    params = opt.step(cost_fn, params)\n    energy = cost_fn(params)\n    conv = np.abs(energy - prev_energy)\n\n    if n % 20 == 0:\n        print('Iteration = {:},  Ground-state energy = {:.8f} Ha,  Convergence parameter = {'\n              ':.8f} Ha'.format(n, energy, conv))\n\n    if conv <= conv_tol:\n        break\n\n    prev_energy = energy\n\nprint()\nprint('Final convergence parameter = {:.8f} Ha'.format(conv))\nprint('Final value of the ground-state energy = {:.8f} Ha'.format(energy))\nprint('Accuracy with respect to the FCI energy: {:.8f} Ha ({:.8f} kcal/mol)'.\n        format(np.abs(energy - (-1.136189454088)), np.abs(energy - (-1.136189454088))*627.503))\nprint()\nprint('Final circuit parameters = \\n', params)"
      ]
    },
    {
      "cell_type": "markdown",
      "metadata": {},
      "source": [
        "Success! \ud83c\udf89\ud83c\udf89\ud83c\udf89 The ground-state energy of the hydrogen molecule has been estimated with chemical\naccuracy (< 1 kcal/mol) with respect to the exact value of -1.136189454088 Hartree (Ha) obtained\nfrom a full configuration-interaction (FCI) calculation. This is because, for the optimized \nvalues of the single-qubit rotation angles, the state prepared by the VQE ansatz is precisely\nthe FCI ground-state of the $H_2$ molecule $|H_2\\rangle_{gs} = 0.99 |1100\\rangle - 0.10\n|0011\\rangle$.\n\nWhat other molecules would you like to study using PennyLane?\n\n\nReferences\n----------\n\n1. Alberto Peruzzo, Jarrod McClean *et al.*, \"A variational eigenvalue solver on a photonic\n   quantum processor\". `Nature Communications 5, 4213 (2014).\n   <https://www.nature.com/articles/ncomms5213?origin=ppub>`__\n\n2. Yudong Cao, Jonathan Romero, *et al.*, \"Quantum Chemistry in the Age of Quantum Computing\".\n   `Chem. Rev. 2019, 119, 19, 10856-10915. \n   <https://pubs.acs.org/doi/10.1021/acs.chemrev.8b00803>`__\n\n"
      ]
    }
  ],
  "metadata": {
    "kernelspec": {
      "display_name": "Python 3",
      "language": "python",
      "name": "python3"
    },
    "language_info": {
      "codemirror_mode": {
        "name": "ipython",
        "version": 3
      },
      "file_extension": ".py",
      "mimetype": "text/x-python",
      "name": "python",
      "nbconvert_exporter": "python",
      "pygments_lexer": "ipython3",
      "version": "3.7.6"
    }
  },
  "nbformat": 4,
  "nbformat_minor": 0
}