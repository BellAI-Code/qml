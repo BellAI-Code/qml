{
  "cells": [
    {
      "cell_type": "code",
      "execution_count": null,
      "metadata": {
        "collapsed": false
      },
      "outputs": [],
      "source": [
        "# This cell is added by sphinx-gallery\n# It can be customized to whatever you like\n%matplotlib inline"
      ]
    },
    {
      "cell_type": "markdown",
      "metadata": {},
      "source": [
        "\nVQE with parallel QPUs on Rigetti Forest\n========================================\n\nThis tutorial showcases how using asynchronously-evaluated parallel QPUs can speed up the\ncalculation of the potential energy surface of molecular hydrogen ($H_2$).\n\nUsing a VQE setup, we task two devices from the\n`PennyLane-Forest <https://pennylane-forest.readthedocs.io/en/latest/>`__ plugin with evaluating\nseparate terms in the qubit Hamiltonian of $H_2$. As these devices are allowed to operate\nasynchronously, i.e., at the same time and without having to wait for each other,\nthe calculation can be performed in roughly half the time.\n\nWe begin by importing the prerequisite libraries:\n"
      ]
    },
    {
      "cell_type": "code",
      "execution_count": null,
      "metadata": {
        "collapsed": false
      },
      "outputs": [],
      "source": [
        "import time\n\nimport matplotlib.pyplot as plt\nimport numpy as np\nimport pennylane as qml\nfrom pennylane import qchem"
      ]
    },
    {
      "cell_type": "markdown",
      "metadata": {},
      "source": [
        "This tutorial requires the ``pennylane-qchem``, ``pennylane-forest`` and ``dask``\npackages, which are installed separately using:\n\n.. code-block:: bash\n\n   pip install pennylane-qchem\n   pip install pennylane-forest\n   pip install \"dask[delayed]\"\n\nFinding the qubit Hamiltonians of $H_{2}$\n-----------------------------------------------\n\nThe objective of this tutorial is to evaluate the potential energy surface of molecular\nhydrogen. This is achieved by finding the ground state energy of $H_{2}$ as we increase\nthe bond length between the hydrogen atoms.\n\nEach inter-atomic distance results in a different qubit Hamiltonian. To find the corresponding\nHamiltonian, we use the :func:`~.pennylane_qchem.qchem.generate_hamiltonian` function of the\n:mod:`~.pennylane_qchem.qchem` package. Further details on the mapping from the electronic\nHamiltonian of a molecule to a qubit Hamiltonian can be found in the\n:doc:`../tutorial/tutorial_quantum_chemistry` and :doc:`../app/tutorial_vqe`\ntutorials.\n\nWe begin by creating a dictionary containing a selection of bond lengths and corresponding data\nfiles saved in `XYZ <https://en.wikipedia.org/wiki/XYZ_file_format>`__ format. These files\nfollow a standard format for specifying the geometry of a molecule and can be downloaded as a\nZip from :download:`here <../implementations/vqe_parallel/vqe_parallel.zip>`.\n\n"
      ]
    },
    {
      "cell_type": "code",
      "execution_count": null,
      "metadata": {
        "collapsed": false
      },
      "outputs": [],
      "source": [
        "data = {  # keys: atomic separations (in Angstroms), values: corresponding files\n    0.3: \"vqe_parallel/h2_0.30.xyz\",\n    0.5: \"vqe_parallel/h2_0.50.xyz\",\n    0.7: \"vqe_parallel/h2_0.70.xyz\",\n    0.9: \"vqe_parallel/h2_0.90.xyz\",\n    1.1: \"vqe_parallel/h2_1.10.xyz\",\n    1.3: \"vqe_parallel/h2_1.30.xyz\",\n    1.5: \"vqe_parallel/h2_1.50.xyz\",\n    1.7: \"vqe_parallel/h2_1.70.xyz\",\n    1.9: \"vqe_parallel/h2_1.90.xyz\",\n    2.1: \"vqe_parallel/h2_2.10.xyz\",\n}"
      ]
    },
    {
      "cell_type": "markdown",
      "metadata": {},
      "source": [
        "The next step is to create the qubit Hamiltonians for each value of the inter-atomic distance.\n\n"
      ]
    },
    {
      "cell_type": "code",
      "execution_count": null,
      "metadata": {
        "collapsed": false
      },
      "outputs": [],
      "source": [
        "hamiltonians = []\n\nfor separation, file in data.items():\n    h, nr_qubits = qchem.generate_hamiltonian(\n        mol_name=str(separation),\n        mol_geo_file=file,\n        mol_charge=0,\n        multiplicity=1,\n        basis_set=\"sto-3g\",\n    )\n\n    hamiltonians.append(h)"
      ]
    },
    {
      "cell_type": "markdown",
      "metadata": {},
      "source": [
        "Each Hamiltonian can be written as a linear combination of fifteen tensor products of Pauli\nmatrices. Let's take a look more closely at one of the Hamiltonians:\n\n"
      ]
    },
    {
      "cell_type": "code",
      "execution_count": null,
      "metadata": {
        "collapsed": false
      },
      "outputs": [],
      "source": [
        "h = hamiltonians[0]\n\nprint(\"Number of terms: {}\\n\".format(len(h.ops)))\nfor op in h.ops:\n    print(\"Measurement {} on wires {}\".format(op.name, op.wires))"
      ]
    },
    {
      "cell_type": "markdown",
      "metadata": {},
      "source": [
        "Defining the energy function\n----------------------------\n\nThe fifteen Pauli terms comprising each Hamiltonian can conventionally be evaluated in a\nsequential manner: we evaluate one expectation value at a time before moving on to the next.\nHowever, this task is highly suited to parallelization. With access to multiple QPUs,\nwe can split up evaluating the terms between the QPUs and gain an increase in processing speed.\n\n\n<div class=\"alert alert-info\"><h4>Note</h4><p>Some of the Pauli terms commute, and so they can be evaluated in practice with fewer than\n   fifteen quantum circuit runs. Nevertheless, these quantum circuit runs can still be\n   parallelized to multiple QPUs.</p></div>\n\nLet's suppose we have access to two QPUs: ``Aspen-4-4Q-E`` and ``Aspen-7-4Q-D`` from\nRigetti. We can evaluate the expectation value of each Hamiltonian with eight terms run on\n``Aspen-4-4Q-E`` and seven terms run on ``Aspen-7-4Q-D``, as summarized by the diagram below:\n\n.. figure:: /implementations/vqe_parallel/vqe_diagram.png\n   :width: 65%\n   :align: center\n\nTo do this, start by instantiating a device for each term:\n\n"
      ]
    },
    {
      "cell_type": "code",
      "execution_count": null,
      "metadata": {
        "collapsed": false
      },
      "outputs": [],
      "source": [
        "devs_4 = [qml.device(\"forest.qvm\", device=\"Aspen-4-4Q-E\") for _ in range(8)]\ndevs_7 = [qml.device(\"forest.qvm\", device=\"Aspen-7-4Q-D\") for _ in range(7)]\ndevs = devs_4 + devs_7"
      ]
    },
    {
      "cell_type": "markdown",
      "metadata": {},
      "source": [
        "<div class=\"alert alert-info\"><h4>Note</h4><p>You can swap out ``forest.qvm`` for ``forest.qpu`` if hardware access is available.</p></div>\n\n<div class=\"alert alert-danger\"><h4>Warning</h4><p>Rigetti's QVM and Quil Compiler services must be running for this tutorial to execute. They\n   can be installed by consulting the `Rigetti documentation\n   <http://docs.rigetti.com/en/stable/>`__ or, for users with Docker, by running:\n\n   .. code-block:: bash\n\n       docker run -d -p 5555:5555 rigetti/quilc -R -p 5555\n       docker run -d -p 5000:5000 rigetti/qvm -S -p 5000</p></div>\n\nWe must also define a circuit to prepare the ground state, which is a superposition of the\nHartree-Fock ($|1100\\rangle$) and doubly-excited ($|0011\\rangle$) configurations.\nThe simple circuit below is able to prepare states of the form $\\alpha |1100\\rangle +\n\\beta |0011\\rangle$ and hence encode the ground state wave function of the hydrogen molecule. The\ncircuit has a single free parameter, which controls a Y-rotation on the third qubit.\n\n"
      ]
    },
    {
      "cell_type": "code",
      "execution_count": null,
      "metadata": {
        "collapsed": false
      },
      "outputs": [],
      "source": [
        "def circuit(param, wires):\n    qml.BasisState(np.array([1, 1, 0, 0]), wires=[0, 1, 2, 3])\n    qml.RY(param, wires=2)\n    qml.CNOT(wires=[2, 3])\n    qml.CNOT(wires=[2, 0])\n    qml.CNOT(wires=[3, 1])"
      ]
    },
    {
      "cell_type": "markdown",
      "metadata": {},
      "source": [
        "The ground state for each inter-atomic distance is characterized by a different Y-rotation angle.\nThe values of these Y-rotations can be found by minimizing the ground state energy as outlined in\n:doc:`../app/tutorial_vqe`. In this tutorial, we load pre-optimized rotations and focus on\ncomparing the speed of evaluating the potential energy surface with sequential and parallel\nevaluation. These parameters can be downloaded by clicking :download:`here\n<../implementations/vqe_parallel/RY_params.npy>`.\n\n"
      ]
    },
    {
      "cell_type": "code",
      "execution_count": null,
      "metadata": {
        "collapsed": false
      },
      "outputs": [],
      "source": [
        "params = np.load(\"vqe_parallel/RY_params.npy\")"
      ]
    },
    {
      "cell_type": "markdown",
      "metadata": {},
      "source": [
        "Finally, the energies as functions of rotation angle can be given using\n:class:`~.pennylane.VQECost`.\n\n"
      ]
    },
    {
      "cell_type": "code",
      "execution_count": null,
      "metadata": {
        "collapsed": false
      },
      "outputs": [],
      "source": [
        "energies = [qml.VQECost(circuit, h, devs) for h in hamiltonians]"
      ]
    },
    {
      "cell_type": "markdown",
      "metadata": {},
      "source": [
        "Calculating the potential energy surface\n----------------------------------------\n\n:class:`~.pennylane.VQECost` returns a :class:`~.pennylane.QNodeCollection` which can be\nevaluated using the input parameters to the ansatz circuit. The\n:class:`~.pennylane.QNodeCollection` can be evaluated asynchronously by passing the keyword\nargument ``parallel=True``. When ``parallel=False`` (the default behaviour), the QNodes are\ninstead evaluated sequentially.\n\nWe can use this feature to compare the sequential and parallel times required to calculate the\npotential energy surface. The following function calculates the surface:\n\n"
      ]
    },
    {
      "cell_type": "code",
      "execution_count": null,
      "metadata": {
        "collapsed": false
      },
      "outputs": [],
      "source": [
        "def calculate_surface(parallel=True):\n    s = []\n    t0 = time.time()\n\n    for i, e in enumerate(energies):\n        print(\"Running for inter-atomic distance {} \u00c5\".format(list(data.keys())[i]))\n        s.append(e(params[i], parallel=parallel))\n\n    t1 = time.time()\n\n    print(\"Evaluation time: {0:.2f} s\".format(t1 - t0))\n    return s, t1 - t0\n\n\nprint(\"Evaluating the potential energy surface sequentially\")\nsurface_seq, t_seq = calculate_surface(parallel=False)\n\nprint(\"\\nEvaluating the potential energy surface in parallel\")\nsurface_par, t_par = calculate_surface(parallel=True)"
      ]
    },
    {
      "cell_type": "markdown",
      "metadata": {},
      "source": [
        "We have seen how a :class:`~.pennylane.QNodeCollection` can be evaluated in parallel. This results\nin a speed up in processing:\n\n"
      ]
    },
    {
      "cell_type": "code",
      "execution_count": null,
      "metadata": {
        "collapsed": false
      },
      "outputs": [],
      "source": [
        "print(\"Speed up: {0:.2f}\".format(t_seq / t_par))"
      ]
    },
    {
      "cell_type": "markdown",
      "metadata": {},
      "source": [
        "Can you think of other ways to combine multiple QPUs to improve the\nperformance of quantum algorithms? To conclude the tutorial, let's plot the calculated\npotential energy surfaces:\n\n"
      ]
    },
    {
      "cell_type": "code",
      "execution_count": null,
      "metadata": {
        "collapsed": false
      },
      "outputs": [],
      "source": [
        "plt.plot(surface_seq, linewidth=2.2, marker=\"o\", color=\"red\")\nplt.plot(surface_par, linewidth=2.2, marker=\"d\", color=\"blue\")\nplt.title(\"Potential energy surface for molecular hydrogen\", fontsize=12)\nplt.xlabel(\"Atomic separation (\u00c5)\", fontsize=16)\nplt.ylabel(\"Ground state energy (Ha)\", fontsize=16)\nplt.grid(True)"
      ]
    },
    {
      "cell_type": "markdown",
      "metadata": {},
      "source": [
        "These surfaces overlap, with any variation due to the limited number of shots used to evaluate the\nexpectation values in the ``forest.qvm`` device (we are using the default value of\n``shots=1024``).\n\n"
      ]
    }
  ],
  "metadata": {
    "kernelspec": {
      "display_name": "Python 3",
      "language": "python",
      "name": "python3"
    },
    "language_info": {
      "codemirror_mode": {
        "name": "ipython",
        "version": 3
      },
      "file_extension": ".py",
      "mimetype": "text/x-python",
      "name": "python",
      "nbconvert_exporter": "python",
      "pygments_lexer": "ipython3",
      "version": "3.7.6"
    }
  },
  "nbformat": 4,
  "nbformat_minor": 0
}